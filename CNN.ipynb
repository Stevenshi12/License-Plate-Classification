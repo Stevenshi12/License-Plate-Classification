{
  "nbformat": 4,
  "nbformat_minor": 0,
  "metadata": {
    "colab": {
      "provenance": []
    },
    "kernelspec": {
      "name": "python3",
      "display_name": "Python 3"
    },
    "language_info": {
      "name": "python"
    },
    "gpuClass": "standard",
    "widgets": {
      "application/vnd.jupyter.widget-state+json": {
        "76d7f2e1509d4f768050d7bc84d51f14": {
          "model_module": "@jupyter-widgets/controls",
          "model_name": "HBoxModel",
          "model_module_version": "1.5.0",
          "state": {
            "_dom_classes": [],
            "_model_module": "@jupyter-widgets/controls",
            "_model_module_version": "1.5.0",
            "_model_name": "HBoxModel",
            "_view_count": null,
            "_view_module": "@jupyter-widgets/controls",
            "_view_module_version": "1.5.0",
            "_view_name": "HBoxView",
            "box_style": "",
            "children": [
              "IPY_MODEL_3eb27478ffd24c309674a73b5d6ca73b",
              "IPY_MODEL_9f9b1cd6651e4cccb31b543cdd6dba45",
              "IPY_MODEL_71f67198b25b4fba9ddc9e7614b51805"
            ],
            "layout": "IPY_MODEL_34c12a91007e4c36a33c37b52381a792"
          }
        },
        "3eb27478ffd24c309674a73b5d6ca73b": {
          "model_module": "@jupyter-widgets/controls",
          "model_name": "HTMLModel",
          "model_module_version": "1.5.0",
          "state": {
            "_dom_classes": [],
            "_model_module": "@jupyter-widgets/controls",
            "_model_module_version": "1.5.0",
            "_model_name": "HTMLModel",
            "_view_count": null,
            "_view_module": "@jupyter-widgets/controls",
            "_view_module_version": "1.5.0",
            "_view_name": "HTMLView",
            "description": "",
            "description_tooltip": null,
            "layout": "IPY_MODEL_4e6e513c43a84532a01240474a41f588",
            "placeholder": "​",
            "style": "IPY_MODEL_b3a76941751c4c95a383b6bad8d31d59",
            "value": "100%"
          }
        },
        "9f9b1cd6651e4cccb31b543cdd6dba45": {
          "model_module": "@jupyter-widgets/controls",
          "model_name": "FloatProgressModel",
          "model_module_version": "1.5.0",
          "state": {
            "_dom_classes": [],
            "_model_module": "@jupyter-widgets/controls",
            "_model_module_version": "1.5.0",
            "_model_name": "FloatProgressModel",
            "_view_count": null,
            "_view_module": "@jupyter-widgets/controls",
            "_view_module_version": "1.5.0",
            "_view_name": "ProgressView",
            "bar_style": "success",
            "description": "",
            "description_tooltip": null,
            "layout": "IPY_MODEL_46ea03fdd87746bf97217a10af78dff1",
            "max": 561753746,
            "min": 0,
            "orientation": "horizontal",
            "style": "IPY_MODEL_cadb7810551f488eab447628ca24898f",
            "value": 561753746
          }
        },
        "71f67198b25b4fba9ddc9e7614b51805": {
          "model_module": "@jupyter-widgets/controls",
          "model_name": "HTMLModel",
          "model_module_version": "1.5.0",
          "state": {
            "_dom_classes": [],
            "_model_module": "@jupyter-widgets/controls",
            "_model_module_version": "1.5.0",
            "_model_name": "HTMLModel",
            "_view_count": null,
            "_view_module": "@jupyter-widgets/controls",
            "_view_module_version": "1.5.0",
            "_view_name": "HTMLView",
            "description": "",
            "description_tooltip": null,
            "layout": "IPY_MODEL_22757423462942a8b3fa99e47377ac08",
            "placeholder": "​",
            "style": "IPY_MODEL_31de4aad7be1405da0791ab9a8672ec9",
            "value": " 561753746/561753746 [00:07&lt;00:00, 83801918.32it/s]"
          }
        },
        "34c12a91007e4c36a33c37b52381a792": {
          "model_module": "@jupyter-widgets/base",
          "model_name": "LayoutModel",
          "model_module_version": "1.2.0",
          "state": {
            "_model_module": "@jupyter-widgets/base",
            "_model_module_version": "1.2.0",
            "_model_name": "LayoutModel",
            "_view_count": null,
            "_view_module": "@jupyter-widgets/base",
            "_view_module_version": "1.2.0",
            "_view_name": "LayoutView",
            "align_content": null,
            "align_items": null,
            "align_self": null,
            "border": null,
            "bottom": null,
            "display": null,
            "flex": null,
            "flex_flow": null,
            "grid_area": null,
            "grid_auto_columns": null,
            "grid_auto_flow": null,
            "grid_auto_rows": null,
            "grid_column": null,
            "grid_gap": null,
            "grid_row": null,
            "grid_template_areas": null,
            "grid_template_columns": null,
            "grid_template_rows": null,
            "height": null,
            "justify_content": null,
            "justify_items": null,
            "left": null,
            "margin": null,
            "max_height": null,
            "max_width": null,
            "min_height": null,
            "min_width": null,
            "object_fit": null,
            "object_position": null,
            "order": null,
            "overflow": null,
            "overflow_x": null,
            "overflow_y": null,
            "padding": null,
            "right": null,
            "top": null,
            "visibility": null,
            "width": null
          }
        },
        "4e6e513c43a84532a01240474a41f588": {
          "model_module": "@jupyter-widgets/base",
          "model_name": "LayoutModel",
          "model_module_version": "1.2.0",
          "state": {
            "_model_module": "@jupyter-widgets/base",
            "_model_module_version": "1.2.0",
            "_model_name": "LayoutModel",
            "_view_count": null,
            "_view_module": "@jupyter-widgets/base",
            "_view_module_version": "1.2.0",
            "_view_name": "LayoutView",
            "align_content": null,
            "align_items": null,
            "align_self": null,
            "border": null,
            "bottom": null,
            "display": null,
            "flex": null,
            "flex_flow": null,
            "grid_area": null,
            "grid_auto_columns": null,
            "grid_auto_flow": null,
            "grid_auto_rows": null,
            "grid_column": null,
            "grid_gap": null,
            "grid_row": null,
            "grid_template_areas": null,
            "grid_template_columns": null,
            "grid_template_rows": null,
            "height": null,
            "justify_content": null,
            "justify_items": null,
            "left": null,
            "margin": null,
            "max_height": null,
            "max_width": null,
            "min_height": null,
            "min_width": null,
            "object_fit": null,
            "object_position": null,
            "order": null,
            "overflow": null,
            "overflow_x": null,
            "overflow_y": null,
            "padding": null,
            "right": null,
            "top": null,
            "visibility": null,
            "width": null
          }
        },
        "b3a76941751c4c95a383b6bad8d31d59": {
          "model_module": "@jupyter-widgets/controls",
          "model_name": "DescriptionStyleModel",
          "model_module_version": "1.5.0",
          "state": {
            "_model_module": "@jupyter-widgets/controls",
            "_model_module_version": "1.5.0",
            "_model_name": "DescriptionStyleModel",
            "_view_count": null,
            "_view_module": "@jupyter-widgets/base",
            "_view_module_version": "1.2.0",
            "_view_name": "StyleView",
            "description_width": ""
          }
        },
        "46ea03fdd87746bf97217a10af78dff1": {
          "model_module": "@jupyter-widgets/base",
          "model_name": "LayoutModel",
          "model_module_version": "1.2.0",
          "state": {
            "_model_module": "@jupyter-widgets/base",
            "_model_module_version": "1.2.0",
            "_model_name": "LayoutModel",
            "_view_count": null,
            "_view_module": "@jupyter-widgets/base",
            "_view_module_version": "1.2.0",
            "_view_name": "LayoutView",
            "align_content": null,
            "align_items": null,
            "align_self": null,
            "border": null,
            "bottom": null,
            "display": null,
            "flex": null,
            "flex_flow": null,
            "grid_area": null,
            "grid_auto_columns": null,
            "grid_auto_flow": null,
            "grid_auto_rows": null,
            "grid_column": null,
            "grid_gap": null,
            "grid_row": null,
            "grid_template_areas": null,
            "grid_template_columns": null,
            "grid_template_rows": null,
            "height": null,
            "justify_content": null,
            "justify_items": null,
            "left": null,
            "margin": null,
            "max_height": null,
            "max_width": null,
            "min_height": null,
            "min_width": null,
            "object_fit": null,
            "object_position": null,
            "order": null,
            "overflow": null,
            "overflow_x": null,
            "overflow_y": null,
            "padding": null,
            "right": null,
            "top": null,
            "visibility": null,
            "width": null
          }
        },
        "cadb7810551f488eab447628ca24898f": {
          "model_module": "@jupyter-widgets/controls",
          "model_name": "ProgressStyleModel",
          "model_module_version": "1.5.0",
          "state": {
            "_model_module": "@jupyter-widgets/controls",
            "_model_module_version": "1.5.0",
            "_model_name": "ProgressStyleModel",
            "_view_count": null,
            "_view_module": "@jupyter-widgets/base",
            "_view_module_version": "1.2.0",
            "_view_name": "StyleView",
            "bar_color": null,
            "description_width": ""
          }
        },
        "22757423462942a8b3fa99e47377ac08": {
          "model_module": "@jupyter-widgets/base",
          "model_name": "LayoutModel",
          "model_module_version": "1.2.0",
          "state": {
            "_model_module": "@jupyter-widgets/base",
            "_model_module_version": "1.2.0",
            "_model_name": "LayoutModel",
            "_view_count": null,
            "_view_module": "@jupyter-widgets/base",
            "_view_module_version": "1.2.0",
            "_view_name": "LayoutView",
            "align_content": null,
            "align_items": null,
            "align_self": null,
            "border": null,
            "bottom": null,
            "display": null,
            "flex": null,
            "flex_flow": null,
            "grid_area": null,
            "grid_auto_columns": null,
            "grid_auto_flow": null,
            "grid_auto_rows": null,
            "grid_column": null,
            "grid_gap": null,
            "grid_row": null,
            "grid_template_areas": null,
            "grid_template_columns": null,
            "grid_template_rows": null,
            "height": null,
            "justify_content": null,
            "justify_items": null,
            "left": null,
            "margin": null,
            "max_height": null,
            "max_width": null,
            "min_height": null,
            "min_width": null,
            "object_fit": null,
            "object_position": null,
            "order": null,
            "overflow": null,
            "overflow_x": null,
            "overflow_y": null,
            "padding": null,
            "right": null,
            "top": null,
            "visibility": null,
            "width": null
          }
        },
        "31de4aad7be1405da0791ab9a8672ec9": {
          "model_module": "@jupyter-widgets/controls",
          "model_name": "DescriptionStyleModel",
          "model_module_version": "1.5.0",
          "state": {
            "_model_module": "@jupyter-widgets/controls",
            "_model_module_version": "1.5.0",
            "_model_name": "DescriptionStyleModel",
            "_view_count": null,
            "_view_module": "@jupyter-widgets/base",
            "_view_module_version": "1.2.0",
            "_view_name": "StyleView",
            "description_width": ""
          }
        },
        "0e71172d2da84b39ae0455bba1a3c46e": {
          "model_module": "@jupyter-widgets/controls",
          "model_name": "HBoxModel",
          "model_module_version": "1.5.0",
          "state": {
            "_dom_classes": [],
            "_model_module": "@jupyter-widgets/controls",
            "_model_module_version": "1.5.0",
            "_model_name": "HBoxModel",
            "_view_count": null,
            "_view_module": "@jupyter-widgets/controls",
            "_view_module_version": "1.5.0",
            "_view_name": "HBoxView",
            "box_style": "",
            "children": [
              "IPY_MODEL_9a4ddeca1260487581c385d7dc9c7d56",
              "IPY_MODEL_67504302f20c4859a748e37960a79795",
              "IPY_MODEL_90e371ce8e0343a2b26b5afcec4e6e4f"
            ],
            "layout": "IPY_MODEL_f53282580c124aaa87faaf5d7b00f583"
          }
        },
        "9a4ddeca1260487581c385d7dc9c7d56": {
          "model_module": "@jupyter-widgets/controls",
          "model_name": "HTMLModel",
          "model_module_version": "1.5.0",
          "state": {
            "_dom_classes": [],
            "_model_module": "@jupyter-widgets/controls",
            "_model_module_version": "1.5.0",
            "_model_name": "HTMLModel",
            "_view_count": null,
            "_view_module": "@jupyter-widgets/controls",
            "_view_module_version": "1.5.0",
            "_view_name": "HTMLView",
            "description": "",
            "description_tooltip": null,
            "layout": "IPY_MODEL_16b1819514d642029c595d8cc4ccd59b",
            "placeholder": "​",
            "style": "IPY_MODEL_6897aacc26ff4891a7e4387b884cd195",
            "value": "100%"
          }
        },
        "67504302f20c4859a748e37960a79795": {
          "model_module": "@jupyter-widgets/controls",
          "model_name": "FloatProgressModel",
          "model_module_version": "1.5.0",
          "state": {
            "_dom_classes": [],
            "_model_module": "@jupyter-widgets/controls",
            "_model_module_version": "1.5.0",
            "_model_name": "FloatProgressModel",
            "_view_count": null,
            "_view_module": "@jupyter-widgets/controls",
            "_view_module_version": "1.5.0",
            "_view_name": "ProgressView",
            "bar_style": "success",
            "description": "",
            "description_tooltip": null,
            "layout": "IPY_MODEL_bc9c912f75e14711a5329ff212c7d813",
            "max": 561753746,
            "min": 0,
            "orientation": "horizontal",
            "style": "IPY_MODEL_ea83241283214dd89e0480c3cd0764b2",
            "value": 561753746
          }
        },
        "90e371ce8e0343a2b26b5afcec4e6e4f": {
          "model_module": "@jupyter-widgets/controls",
          "model_name": "HTMLModel",
          "model_module_version": "1.5.0",
          "state": {
            "_dom_classes": [],
            "_model_module": "@jupyter-widgets/controls",
            "_model_module_version": "1.5.0",
            "_model_name": "HTMLModel",
            "_view_count": null,
            "_view_module": "@jupyter-widgets/controls",
            "_view_module_version": "1.5.0",
            "_view_name": "HTMLView",
            "description": "",
            "description_tooltip": null,
            "layout": "IPY_MODEL_4d39de039fe546b18697b0f199133255",
            "placeholder": "​",
            "style": "IPY_MODEL_f80ba67482914168af0897fbe6e52fdd",
            "value": " 561753746/561753746 [00:08&lt;00:00, 66180015.39it/s]"
          }
        },
        "f53282580c124aaa87faaf5d7b00f583": {
          "model_module": "@jupyter-widgets/base",
          "model_name": "LayoutModel",
          "model_module_version": "1.2.0",
          "state": {
            "_model_module": "@jupyter-widgets/base",
            "_model_module_version": "1.2.0",
            "_model_name": "LayoutModel",
            "_view_count": null,
            "_view_module": "@jupyter-widgets/base",
            "_view_module_version": "1.2.0",
            "_view_name": "LayoutView",
            "align_content": null,
            "align_items": null,
            "align_self": null,
            "border": null,
            "bottom": null,
            "display": null,
            "flex": null,
            "flex_flow": null,
            "grid_area": null,
            "grid_auto_columns": null,
            "grid_auto_flow": null,
            "grid_auto_rows": null,
            "grid_column": null,
            "grid_gap": null,
            "grid_row": null,
            "grid_template_areas": null,
            "grid_template_columns": null,
            "grid_template_rows": null,
            "height": null,
            "justify_content": null,
            "justify_items": null,
            "left": null,
            "margin": null,
            "max_height": null,
            "max_width": null,
            "min_height": null,
            "min_width": null,
            "object_fit": null,
            "object_position": null,
            "order": null,
            "overflow": null,
            "overflow_x": null,
            "overflow_y": null,
            "padding": null,
            "right": null,
            "top": null,
            "visibility": null,
            "width": null
          }
        },
        "16b1819514d642029c595d8cc4ccd59b": {
          "model_module": "@jupyter-widgets/base",
          "model_name": "LayoutModel",
          "model_module_version": "1.2.0",
          "state": {
            "_model_module": "@jupyter-widgets/base",
            "_model_module_version": "1.2.0",
            "_model_name": "LayoutModel",
            "_view_count": null,
            "_view_module": "@jupyter-widgets/base",
            "_view_module_version": "1.2.0",
            "_view_name": "LayoutView",
            "align_content": null,
            "align_items": null,
            "align_self": null,
            "border": null,
            "bottom": null,
            "display": null,
            "flex": null,
            "flex_flow": null,
            "grid_area": null,
            "grid_auto_columns": null,
            "grid_auto_flow": null,
            "grid_auto_rows": null,
            "grid_column": null,
            "grid_gap": null,
            "grid_row": null,
            "grid_template_areas": null,
            "grid_template_columns": null,
            "grid_template_rows": null,
            "height": null,
            "justify_content": null,
            "justify_items": null,
            "left": null,
            "margin": null,
            "max_height": null,
            "max_width": null,
            "min_height": null,
            "min_width": null,
            "object_fit": null,
            "object_position": null,
            "order": null,
            "overflow": null,
            "overflow_x": null,
            "overflow_y": null,
            "padding": null,
            "right": null,
            "top": null,
            "visibility": null,
            "width": null
          }
        },
        "6897aacc26ff4891a7e4387b884cd195": {
          "model_module": "@jupyter-widgets/controls",
          "model_name": "DescriptionStyleModel",
          "model_module_version": "1.5.0",
          "state": {
            "_model_module": "@jupyter-widgets/controls",
            "_model_module_version": "1.5.0",
            "_model_name": "DescriptionStyleModel",
            "_view_count": null,
            "_view_module": "@jupyter-widgets/base",
            "_view_module_version": "1.2.0",
            "_view_name": "StyleView",
            "description_width": ""
          }
        },
        "bc9c912f75e14711a5329ff212c7d813": {
          "model_module": "@jupyter-widgets/base",
          "model_name": "LayoutModel",
          "model_module_version": "1.2.0",
          "state": {
            "_model_module": "@jupyter-widgets/base",
            "_model_module_version": "1.2.0",
            "_model_name": "LayoutModel",
            "_view_count": null,
            "_view_module": "@jupyter-widgets/base",
            "_view_module_version": "1.2.0",
            "_view_name": "LayoutView",
            "align_content": null,
            "align_items": null,
            "align_self": null,
            "border": null,
            "bottom": null,
            "display": null,
            "flex": null,
            "flex_flow": null,
            "grid_area": null,
            "grid_auto_columns": null,
            "grid_auto_flow": null,
            "grid_auto_rows": null,
            "grid_column": null,
            "grid_gap": null,
            "grid_row": null,
            "grid_template_areas": null,
            "grid_template_columns": null,
            "grid_template_rows": null,
            "height": null,
            "justify_content": null,
            "justify_items": null,
            "left": null,
            "margin": null,
            "max_height": null,
            "max_width": null,
            "min_height": null,
            "min_width": null,
            "object_fit": null,
            "object_position": null,
            "order": null,
            "overflow": null,
            "overflow_x": null,
            "overflow_y": null,
            "padding": null,
            "right": null,
            "top": null,
            "visibility": null,
            "width": null
          }
        },
        "ea83241283214dd89e0480c3cd0764b2": {
          "model_module": "@jupyter-widgets/controls",
          "model_name": "ProgressStyleModel",
          "model_module_version": "1.5.0",
          "state": {
            "_model_module": "@jupyter-widgets/controls",
            "_model_module_version": "1.5.0",
            "_model_name": "ProgressStyleModel",
            "_view_count": null,
            "_view_module": "@jupyter-widgets/base",
            "_view_module_version": "1.2.0",
            "_view_name": "StyleView",
            "bar_color": null,
            "description_width": ""
          }
        },
        "4d39de039fe546b18697b0f199133255": {
          "model_module": "@jupyter-widgets/base",
          "model_name": "LayoutModel",
          "model_module_version": "1.2.0",
          "state": {
            "_model_module": "@jupyter-widgets/base",
            "_model_module_version": "1.2.0",
            "_model_name": "LayoutModel",
            "_view_count": null,
            "_view_module": "@jupyter-widgets/base",
            "_view_module_version": "1.2.0",
            "_view_name": "LayoutView",
            "align_content": null,
            "align_items": null,
            "align_self": null,
            "border": null,
            "bottom": null,
            "display": null,
            "flex": null,
            "flex_flow": null,
            "grid_area": null,
            "grid_auto_columns": null,
            "grid_auto_flow": null,
            "grid_auto_rows": null,
            "grid_column": null,
            "grid_gap": null,
            "grid_row": null,
            "grid_template_areas": null,
            "grid_template_columns": null,
            "grid_template_rows": null,
            "height": null,
            "justify_content": null,
            "justify_items": null,
            "left": null,
            "margin": null,
            "max_height": null,
            "max_width": null,
            "min_height": null,
            "min_width": null,
            "object_fit": null,
            "object_position": null,
            "order": null,
            "overflow": null,
            "overflow_x": null,
            "overflow_y": null,
            "padding": null,
            "right": null,
            "top": null,
            "visibility": null,
            "width": null
          }
        },
        "f80ba67482914168af0897fbe6e52fdd": {
          "model_module": "@jupyter-widgets/controls",
          "model_name": "DescriptionStyleModel",
          "model_module_version": "1.5.0",
          "state": {
            "_model_module": "@jupyter-widgets/controls",
            "_model_module_version": "1.5.0",
            "_model_name": "DescriptionStyleModel",
            "_view_count": null,
            "_view_module": "@jupyter-widgets/base",
            "_view_module_version": "1.2.0",
            "_view_name": "StyleView",
            "description_width": ""
          }
        }
      }
    },
    "accelerator": "GPU"
  },
  "cells": [
    {
      "cell_type": "code",
      "execution_count": null,
      "metadata": {
        "id": "WHYg03CczFI6"
      },
      "outputs": [],
      "source": [
        "from google.colab import drive\n",
        "import numpy as np\n",
        "import time\n",
        "import torch\n",
        "import torch.nn as nn\n",
        "import torch.nn.functional as F\n",
        "import torch.optim as optim\n",
        "import torchvision\n",
        "from torch.utils.data.sampler import SubsetRandomSampler\n",
        "import torchvision.transforms as transforms\n",
        "import string\n",
        "import matplotlib.pyplot as plt\n",
        "\n",
        "from PIL import Image\n",
        "import os\n"
      ]
    },
    {
      "cell_type": "code",
      "source": [
        "# !unzip \"/content/drive/MyDrive/ML-AI Project/Character Recognition Dataset/archive.zip\" -d \"/content/drive/MyDrive/ML-AI Project/Character Recognition Dataset/Dataset\""
      ],
      "metadata": {
        "id": "ukMkGvGuJ8BO"
      },
      "execution_count": null,
      "outputs": []
    },
    {
      "cell_type": "code",
      "source": [
        "from google.colab import drive\n",
        "drive.mount('/content/drive')"
      ],
      "metadata": {
        "colab": {
          "base_uri": "https://localhost:8080/"
        },
        "id": "Zr4PxNlaKA_Y",
        "outputId": "5cf0b228-1c37-494e-e4cd-e0ba32c7ac77"
      },
      "execution_count": null,
      "outputs": [
        {
          "output_type": "stream",
          "name": "stdout",
          "text": [
            "Mounted at /content/drive\n"
          ]
        }
      ]
    },
    {
      "cell_type": "markdown",
      "source": [],
      "metadata": {
        "id": "cndT9jnZNPjU"
      }
    },
    {
      "cell_type": "code",
      "source": [
        "alphabet = list(string.ascii_uppercase)\n",
        "target = [0,1,2,3,4,5,6,7,8,9]+alphabet\n",
        "classes = [0,1,2,3,4,5,6,7,8,9]+alphabet+[\"a\",\"b\",\"d\",\"e\",\"f\",\"g\",\"h\",\"n\",\"q\",\"r\",\"t\"]"
      ],
      "metadata": {
        "id": "XcfXwyUe1agO"
      },
      "execution_count": null,
      "outputs": []
    },
    {
      "cell_type": "code",
      "source": [
        "def get_relevant_indices(dataset, classes, target_classes):\n",
        "\n",
        "    indices = []\n",
        "    for i in range(len(dataset)):\n",
        "        # Check if the label is in the target classes\n",
        "        label_index = dataset[i][1]\n",
        "        label_class = classes[label_index]\n",
        "        if label_class in target_classes:\n",
        "            indices.append(i)\n",
        "\n",
        "    return indices\n",
        "    \n",
        "def get_data_loader(target_classes, batch_size):\n",
        "\n",
        "    alphabet = list(string.ascii_uppercase)\n",
        "    classes = [0,1,2,3,4,5,6,7,8,9]+alphabet+[\"a\",\"b\",\"d\",\"e\",\"f\",\"g\",\"h\",\"n\",\"q\",\"r\",\"t\"]\n",
        "\n",
        "    transform = transforms.Compose(\n",
        "        [transforms.ToTensor(),transforms.RandomHorizontalFlip(p=1),transforms.RandomRotation(degrees=(90,90)),transforms.RandomInvert(0.15),\n",
        "                           transforms.RandomAutocontrast(0.10)])\n",
        "    \n",
        "\n",
        "    trainset = torchvision.datasets.EMNIST(root='./data',split = 'balanced', train=True,\n",
        "                                            download=True, transform=transform)\n",
        "    # Get the list of indices to sample from\n",
        "    relevant_indices = get_relevant_indices(trainset, classes, target_classes)\n",
        "    \n",
        "    # Split into train and validation\n",
        "    np.random.seed(1000) # Fixed numpy random seed for reproducible shuffling\n",
        "    np.random.shuffle(relevant_indices)\n",
        "    split = int(len(relevant_indices) * 0.8) #split at 80%\n",
        "    \n",
        "    # split into training and validation indices\n",
        "    relevant_train_indices, relevant_val_indices = relevant_indices[:split], relevant_indices[split:]  \n",
        "    train_sampler = SubsetRandomSampler(relevant_train_indices)\n",
        "    train_loader = torch.utils.data.DataLoader(trainset, batch_size=batch_size,\n",
        "                                               num_workers=1, sampler=train_sampler)\n",
        "    val_sampler = SubsetRandomSampler(relevant_val_indices)\n",
        "    val_loader = torch.utils.data.DataLoader(trainset, batch_size=batch_size,\n",
        "                                              num_workers=1, sampler=val_sampler)\n",
        "\n",
        "    return train_loader, val_loader\n",
        "\n",
        "def get_test_loader(batch_size):\n",
        "    transform = transforms.Compose(\n",
        "        [transforms.ToTensor(),transforms.RandomHorizontalFlip(p=1),transforms.RandomRotation(degrees=(90,90))])\n",
        "    testset = torchvision.datasets.EMNIST(root='./data',split = 'balanced', train=False,\n",
        "                                            download=True, transform=transform)\n",
        "    # Get the list of indices to sample from\n",
        "    \n",
        "    alphabet = list(string.ascii_uppercase)\n",
        "    target = [0,1,2,3,4,5,6,7,8,9]+alphabet\n",
        "    classes = [0,1,2,3,4,5,6,7,8,9]+alphabet+[\"a\",\"b\",\"d\",\"e\",\"f\",\"g\",\"h\",\"n\",\"q\",\"r\",\"t\"]\n",
        "    relevant_test_indices = get_relevant_indices(testset, classes, target)\n",
        "    test_sampler = SubsetRandomSampler(relevant_test_indices)\n",
        "    test_loader = torch.utils.data.DataLoader(testset, batch_size=batch_size,\n",
        "                                              num_workers=1, sampler=test_sampler)\n",
        "    return test_loader"
      ],
      "metadata": {
        "id": "4wLp19bc7LmY"
      },
      "execution_count": null,
      "outputs": []
    },
    {
      "cell_type": "code",
      "source": [
        "target = [0,1,2,3,4,5,6,7,8,9]+alphabet\n",
        "torch.manual_seed(1000)\n",
        "train_loader, val_loader = get_data_loader(\n",
        "    target_classes=target, \n",
        "    batch_size=1)"
      ],
      "metadata": {
        "id": "oaoaHSfb9S4G",
        "colab": {
          "base_uri": "https://localhost:8080/",
          "height": 85,
          "referenced_widgets": [
            "76d7f2e1509d4f768050d7bc84d51f14",
            "3eb27478ffd24c309674a73b5d6ca73b",
            "9f9b1cd6651e4cccb31b543cdd6dba45",
            "71f67198b25b4fba9ddc9e7614b51805",
            "34c12a91007e4c36a33c37b52381a792",
            "4e6e513c43a84532a01240474a41f588",
            "b3a76941751c4c95a383b6bad8d31d59",
            "46ea03fdd87746bf97217a10af78dff1",
            "cadb7810551f488eab447628ca24898f",
            "22757423462942a8b3fa99e47377ac08",
            "31de4aad7be1405da0791ab9a8672ec9"
          ]
        },
        "outputId": "6021ac4d-8dfd-437c-b0a6-6ccee6275ce3"
      },
      "execution_count": null,
      "outputs": [
        {
          "output_type": "stream",
          "name": "stdout",
          "text": [
            "Downloading https://www.itl.nist.gov/iaui/vip/cs_links/EMNIST/gzip.zip to ./data/EMNIST/raw/gzip.zip\n"
          ]
        },
        {
          "output_type": "display_data",
          "data": {
            "text/plain": [
              "  0%|          | 0/561753746 [00:00<?, ?it/s]"
            ],
            "application/vnd.jupyter.widget-view+json": {
              "version_major": 2,
              "version_minor": 0,
              "model_id": "76d7f2e1509d4f768050d7bc84d51f14"
            }
          },
          "metadata": {}
        },
        {
          "output_type": "stream",
          "name": "stdout",
          "text": [
            "Extracting ./data/EMNIST/raw/gzip.zip to ./data/EMNIST/raw\n"
          ]
        }
      ]
    },
    {
      "cell_type": "code",
      "source": [
        "k = 0\n",
        "lst = []\n",
        "for images, labels in train_loader:\n",
        "\n",
        "    image = images[0]\n",
        "    image = image.reshape(28,28)\n",
        "    \n",
        "    if classes[labels[0]] not in lst:\n",
        "        # fig.tight_layout(pad=3)\n",
        "        lst.append(classes[labels[0]])\n",
        "        plt.subplot(4, 9,k+1)\n",
        "        plt.title(classes[labels[0]])\n",
        "        plt.imshow(image,cmap=\"gray\")\n",
        "        plt.axis('off')\n",
        "        k+=1\n",
        "        continue\n",
        "    if k > 35:\n",
        "        # print(image)\n",
        "        break"
      ],
      "metadata": {
        "id": "QgLx1FRq6GS2",
        "outputId": "50a81f16-6dcd-4ebb-c2dd-fe61f6a896da",
        "colab": {
          "base_uri": "https://localhost:8080/",
          "height": 249
        }
      },
      "execution_count": null,
      "outputs": [
        {
          "output_type": "display_data",
          "data": {
            "text/plain": [
              "<Figure size 432x288 with 36 Axes>"
            ],
            "image/png": "[encoded data removed]"
          },
          "metadata": {
            "needs_background": "light"
          }
        }
      ]
    },
    {
      "cell_type": "code",
      "source": [
        "class PlateNet1(nn.Module):\n",
        "   def __init__(self):\n",
        "      super(PlateNet1, self).__init__()\n",
        "      self.name = \"platenet1\"\n",
        "      self.conv1 = nn.Conv2d(1,10,5)                                     \n",
        "      self.pool = nn.MaxPool2d(2,2)                 \n",
        "      self.fc1 = nn.Linear(12*12*10,500)            \n",
        "      self.fc2 = nn.Linear(500,36)                \n",
        "      self.dropout = nn.Dropout(0.2)\n",
        "   def forward(self, x):\n",
        "      x = self.pool(F.relu(self.conv1(x)))\n",
        "      # x = self.pool(F.relu(self.conv2(x)))\n",
        "      # x = F.relu(self.conv3(x))\n",
        "      x = x.view(-1,12*12*10)\n",
        "      x = F.relu(self.fc1(self.dropout(x)))\n",
        "      x = self.fc2(self.dropout(x))\n",
        "      x = x.squeeze(1)\n",
        "      return x"
      ],
      "metadata": {
        "id": "br67nwlRLYBf"
      },
      "execution_count": null,
      "outputs": []
    },
    {
      "cell_type": "code",
      "source": [
        "class PlateNet1_noDO(nn.Module):\n",
        "   def __init__(self):\n",
        "      super(PlateNet1_noDO, self).__init__()\n",
        "      self.name = \"platenet1_noDO\"\n",
        "      self.conv1 = nn.Conv2d(1,10,5)                                        \n",
        "      self.pool = nn.MaxPool2d(2,2)                    \n",
        "      self.fc1 = nn.Linear(12*12*10,500)              \n",
        "      self.fc2 = nn.Linear(500,36)                   \n",
        "      # self.dropout = nn.Dropout(0.2)\n",
        "   def forward(self, x):\n",
        "      x = self.pool(F.relu(self.conv1(x)))\n",
        "      # x = self.pool(F.relu(self.conv2(x)))\n",
        "      # x = F.relu(self.conv3(x))\n",
        "      x = x.view(-1,12*12*10)\n",
        "      x = F.relu(self.fc1(x))\n",
        "      x = self.fc2(x)\n",
        "      x = x.squeeze(1)\n",
        "      return x"
      ],
      "metadata": {
        "id": "x-AEjlbT3xWQ"
      },
      "execution_count": null,
      "outputs": []
    },
    {
      "cell_type": "code",
      "source": [
        "class PlateNet2_noDO(nn.Module):\n",
        "   def __init__(self):\n",
        "      super(PlateNet2_noDO, self).__init__()\n",
        "      self.name = \"platenet2_noDO\"\n",
        "      self.conv1 = nn.Conv2d(1,6,3)                                       \n",
        "      self.pool = nn.MaxPool2d(2,2)                    \n",
        "      self.conv2 = nn.Conv2d(6,15,3)                    \n",
        "      self.conv3 = nn.Conv2d(15,25,3)         \n",
        "      self.fc1 = nn.Linear(9*25*9,100)                 \n",
        "      self.fc2 = nn.Linear(100,36)                \n",
        "   def forward(self, x):\n",
        "      x = self.pool(F.relu(self.conv1(x)))\n",
        "      x = F.relu(self.conv2(x))\n",
        "      x = F.relu(self.conv3(x))\n",
        "      x = x.view(-1,25*9*9)\n",
        "      x = F.relu(self.fc1(x))\n",
        "      x = self.fc2(x)\n",
        "      x = x.squeeze(1)\n",
        "      return x"
      ],
      "metadata": {
        "id": "PTLARSRVqcVR"
      },
      "execution_count": null,
      "outputs": []
    },
    {
      "cell_type": "code",
      "source": [
        "class PlateNet2(nn.Module):\n",
        "   def __init__(self):\n",
        "      super(PlateNet2, self).__init__()\n",
        "      self.name = \"platenet2\"\n",
        "      self.conv1 = nn.Conv2d(1,6,3)                                       \n",
        "      self.pool = nn.MaxPool2d(2,2)                    \n",
        "      self.conv2 = nn.Conv2d(6,15,3)                    \n",
        "      self.conv3 = nn.Conv2d(15,25,3)         \n",
        "      self.fc1 = nn.Linear(9*25*9,100)                 \n",
        "      self.fc2 = nn.Linear(100,36)                \n",
        "      self.dropout = nn.Dropout(0.25)\n",
        "   def forward(self, x):\n",
        "      x = self.pool(F.relu(self.conv1(x)))\n",
        "      x = F.relu(self.conv2(x))\n",
        "      x = F.relu(self.conv3(x))\n",
        "      x = x.view(-1,25*9*9)\n",
        "      x = F.relu(self.fc1(self.dropout(x)))\n",
        "      x = self.fc2(self.dropout(x))\n",
        "      x = x.squeeze(1)\n",
        "      return x"
      ],
      "metadata": {
        "id": "xgq7Z-eirchk"
      },
      "execution_count": null,
      "outputs": []
    },
    {
      "cell_type": "code",
      "source": [
        "class PlateNet3(nn.Module):\n",
        "   def __init__(self):\n",
        "      super(PlateNet3, self).__init__()\n",
        "      self.name = \"platenet3\"\n",
        "      self.conv1 = nn.Conv2d(1,6,3)                                       \n",
        "      self.pool = nn.MaxPool2d(2,2)                    \n",
        "      self.conv2 = nn.Conv2d(6,15,3)                    \n",
        "      self.conv3 = nn.Conv2d(15,25,3)         \n",
        "      self.fc1 = nn.Linear(9*25*9,500)\n",
        "      self.fc2 = nn.Linear(500,100)\n",
        "      self.fc3 = nn.Linear(100,36)                \n",
        "      self.dropout = nn.Dropout(0.25)\n",
        "   def forward(self, x):\n",
        "      x = self.pool(F.relu(self.conv1(x)))\n",
        "      x = F.relu(self.conv2(x))\n",
        "      x = F.relu(self.conv3(x))\n",
        "      x = x.view(-1,25*9*9)\n",
        "      x = F.relu(self.fc1(self.dropout(x)))\n",
        "      x = F.relu(self.fc2(self.dropout(x)))\n",
        "      x = self.fc3(x)\n",
        "      x = x.squeeze(1)\n",
        "      return x"
      ],
      "metadata": {
        "id": "hjb8Yp5zc5yB"
      },
      "execution_count": null,
      "outputs": []
    },
    {
      "cell_type": "code",
      "source": [
        "class PlateNet4(nn.Module):\n",
        "  def __init__(self):\n",
        "      super(PlateNet4, self).__init__()\n",
        "      self.name = \"platenet4\"\n",
        "      self.conv1 = nn.Conv2d(1,6,3)                                       \n",
        "      # self.pool = nn.MaxPool2d(2,2)                    \n",
        "      self.conv2 = nn.Conv2d(6,15,3)                    \n",
        "      self.conv3 = nn.Conv2d(15,25,3)         \n",
        "      self.fc1 = nn.Linear(22*25*22,100)                 \n",
        "      self.fc2 = nn.Linear(100,36)                \n",
        "      self.dropout = nn.Dropout(0.25)\n",
        "  def forward(self, x):\n",
        "      x = F.relu(self.conv1(x))\n",
        "      x = F.relu(self.conv2(x))\n",
        "      x = F.relu(self.conv3(x))\n",
        "      x = x.view(-1,25*22*22)\n",
        "      x = F.relu(self.fc1(self.dropout(x)))\n",
        "      x = self.fc2(self.dropout(x))\n",
        "      x = x.squeeze(1)\n",
        "      return x"
      ],
      "metadata": {
        "id": "g1fVtJ_gKsJq"
      },
      "execution_count": null,
      "outputs": []
    },
    {
      "cell_type": "code",
      "source": [
        "def get_acc_loss(loader, model):\n",
        "\n",
        "    correct = 0\n",
        "    total = 0\n",
        "    model.eval()\n",
        "    for input, label in loader:\n",
        "        # Activate GPU\n",
        "        if torch.cuda.is_available():\n",
        "          input = input.cuda()\n",
        "          label = label.cuda()\n",
        "        \n",
        "        output = model(input)\n",
        "        \n",
        "        #Compare prediction with actual label\n",
        "        pred = output.max(1, keepdim=True)[1]\n",
        "        correct += pred.eq(label.view_as(pred)).sum().item()\n",
        "        # print(correct)\n",
        "        total += input.shape[0]\n",
        "    return (correct / total)\n",
        "    \n",
        "def get_model_name(name, batch_size, learning_rate):\n",
        "\n",
        "    path = \"model_{0}_bs{1}_lr{2}\".format(name,\n",
        "                                                   batch_size,\n",
        "                                                   learning_rate)\n",
        "    return path"
      ],
      "metadata": {
        "id": "dmVrdZgQO0w1"
      },
      "execution_count": null,
      "outputs": []
    },
    {
      "cell_type": "code",
      "source": [
        "def training(model, batch_size=27, learning_rate=0.001, num_epochs=20):\n",
        "  torch.manual_seed(1000)\n",
        "  alphabet = list(string.ascii_uppercase)\n",
        "  target = [0,1,2,3,4,5,6,7,8,9]+alphabet\n",
        "  train_loader, val_loader = get_data_loader(target,batch_size)\n",
        "\n",
        "  criterion = nn.CrossEntropyLoss()\n",
        "\n",
        "  optimizer = optim.Adam(model.parameters(), lr = learning_rate)\n",
        "\n",
        "\n",
        "  train_acc = np.zeros(num_epochs)\n",
        "  train_loss = np.zeros(num_epochs)\n",
        "  val_acc = np.zeros(num_epochs)\n",
        "  \n",
        "  for epoch in range(num_epochs):\n",
        "     correct = 0.0\n",
        "     total_train_loss = 0.0\n",
        "     total_epoch = 0\n",
        "     for i, data in enumerate(train_loader,0):\n",
        "       # Activate GPU\n",
        "        input, label = data\n",
        "        model.train()\n",
        "        if torch.cuda.is_available():\n",
        "            input = input.cuda()\n",
        "            label = label.cuda()\n",
        "        \n",
        "        #backwards propagation\n",
        "        optimizer.zero_grad()\n",
        "        output = model(input)\n",
        "        loss = criterion(output,label)\n",
        "        loss.backward()\n",
        "        optimizer.step()\n",
        "\n",
        "        pred = output.max(1, keepdim=True)[1]\n",
        "        correct += pred.eq(label.view_as(pred)).sum().item()\n",
        "        total_train_loss += loss.item()\n",
        "        total_epoch += len(label)\n",
        "     train_acc[epoch] = float(correct) / total_epoch\n",
        "     train_loss[epoch] = float(total_train_loss)/(i+1)\n",
        "     val_acc[epoch] = get_acc_loss(val_loader,model) #validation accuracy\n",
        "     print((\"Epoch {}: Train acc: {}, Train loss: {} |\"+\n",
        "               \"Validation acc: {}\").format(\n",
        "                   epoch + 1,\n",
        "                   train_acc[epoch],\n",
        "                   train_loss[epoch],\n",
        "                   val_acc[epoch]))\n",
        "     # Save current model state for access later\n",
        "  model_path = get_model_name(model.name, batch_size, learning_rate)\n",
        "  torch.save(model.state_dict(), model_path)\n",
        "  plt.plot(range(1,len(train_acc)+1), train_acc, label = 'Train')\n",
        "  plt.plot(range(1,len(train_acc)+1), val_acc, label = 'Validation')\n",
        "  plt.xlabel(\"Epoch\")\n",
        "  plt.ylabel(\"Accuracy\")\n",
        "  plt.legend(loc='best')\n",
        "  plt.show()\n",
        "  plt.plot(range(1,len(train_acc)+1), train_loss)\n",
        "  plt.xlabel(\"Epoch\")\n",
        "  plt.ylabel(\"loss\")\n",
        "  print(\"Final Training Accuracy: {}\".format(train_acc[-1]))\n",
        "  print(\"Final Validation Accuracy: {}\".format(val_acc[-1]))"
      ],
      "metadata": {
        "id": "zdnVzB7RJXWs"
      },
      "execution_count": null,
      "outputs": []
    },
    {
      "cell_type": "code",
      "source": [
        "model = PlateNet1_noDO()\n",
        "if torch.cuda.is_available():\n",
        "    model = model.cuda()\n",
        "    print(\"cuda\")\n",
        "training(model, batch_size=100, learning_rate=0.0015, num_epochs=20)"
      ],
      "metadata": {
        "colab": {
          "base_uri": "https://localhost:8080/",
          "height": 960
        },
        "id": "dG-PqUYkTdjX",
        "outputId": "f55d15ea-79f6-4a56-baeb-aacc887e4f97"
      },
      "execution_count": null,
      "outputs": [
        {
          "output_type": "stream",
          "name": "stdout",
          "text": [
            "cuda\n",
            "Epoch 1: Train acc: 0.7004340277777777, Train loss: 0.9953051962044542 |Validation acc: 0.8315972222222222\n",
            "Epoch 2: Train acc: 0.8608796296296296, Train loss: 0.3930823306816851 |Validation acc: 0.8653935185185185\n",
            "Epoch 3: Train acc: 0.885402199074074, Train loss: 0.31759987810271323 |Validation acc: 0.8766203703703703\n",
            "Epoch 4: Train acc: 0.8961660879629629, Train loss: 0.278100134880212 |Validation acc: 0.8825231481481481\n",
            "Epoch 5: Train acc: 0.9044704861111111, Train loss: 0.2496285161509507 |Validation acc: 0.8912037037037037\n",
            "Epoch 6: Train acc: 0.9116030092592593, Train loss: 0.22865013039611667 |Validation acc: 0.8848379629629629\n",
            "Epoch 7: Train acc: 0.9169704861111111, Train loss: 0.2104704115389055 |Validation acc: 0.8885416666666667\n",
            "Epoch 8: Train acc: 0.9226707175925926, Train loss: 0.19432476988719033 |Validation acc: 0.8949652777777778\n",
            "Epoch 9: Train acc: 0.9266637731481482, Train loss: 0.1822612263030787 |Validation acc: 0.8866319444444445\n",
            "Epoch 10: Train acc: 0.9294126157407407, Train loss: 0.1756415393397298 |Validation acc: 0.8927083333333333\n",
            "Epoch 11: Train acc: 0.9310763888888889, Train loss: 0.16991280315906843 |Validation acc: 0.8809606481481481\n",
            "Epoch 12: Train acc: 0.9348668981481482, Train loss: 0.15916357747941262 |Validation acc: 0.891724537037037\n",
            "Epoch 13: Train acc: 0.9367476851851851, Train loss: 0.15402336951582074 |Validation acc: 0.8901041666666667\n",
            "Epoch 14: Train acc: 0.9390769675925926, Train loss: 0.1500207153983371 |Validation acc: 0.8929976851851852\n",
            "Epoch 15: Train acc: 0.9436197916666667, Train loss: 0.13727701282279425 |Validation acc: 0.8903935185185186\n",
            "Epoch 16: Train acc: 0.9426070601851851, Train loss: 0.13679206104292346 |Validation acc: 0.8923611111111112\n",
            "Epoch 17: Train acc: 0.9455729166666667, Train loss: 0.13116445010958638 |Validation acc: 0.8885995370370371\n",
            "Epoch 18: Train acc: 0.9453703703703704, Train loss: 0.131816209991048 |Validation acc: 0.8915509259259259\n",
            "Epoch 19: Train acc: 0.9497395833333333, Train loss: 0.12111583552888536 |Validation acc: 0.8895833333333333\n",
            "Epoch 20: Train acc: 0.9515335648148148, Train loss: 0.12073770066389458 |Validation acc: 0.8885416666666667\n"
          ]
        },
        {
          "output_type": "display_data",
          "data": {
            "text/plain": [
              "<Figure size 432x288 with 1 Axes>"
            ],
            "image/png": "[encoded data removed]"
          },
          "metadata": {
            "needs_background": "light"
          }
        },
        {
          "output_type": "stream",
          "name": "stdout",
          "text": [
            "Final Training Accuracy: 0.9515335648148148\n",
            "Final Validation Accuracy: 0.8885416666666667\n"
          ]
        },
        {
          "output_type": "display_data",
          "data": {
            "text/plain": [
              "<Figure size 432x288 with 1 Axes>"
            ],
            "image/png": "[encoded data removed]"
          },
          "metadata": {
            "needs_background": "light"
          }
        }
      ]
    },
    {
      "cell_type": "code",
      "source": [
        "model = PlateNet1()\n",
        "if torch.cuda.is_available():\n",
        "    model = model.cuda()\n",
        "    print(\"cuda\")\n",
        "training(model, batch_size=100, learning_rate=0.0015, num_epochs=20)"
      ],
      "metadata": {
        "colab": {
          "base_uri": "https://localhost:8080/",
          "height": 960
        },
        "id": "BzoN5vaRvl42",
        "outputId": "e84fae8e-a3d1-424a-f7e5-b51cff587839"
      },
      "execution_count": null,
      "outputs": [
        {
          "output_type": "stream",
          "name": "stdout",
          "text": [
            "cuda\n",
            "Epoch 1: Train acc: 0.7380642361111112, Train loss: 0.8582600711311908 |Validation acc: 0.8486689814814815\n",
            "Epoch 2: Train acc: 0.8490740740740741, Train loss: 0.4299407228396807 |Validation acc: 0.8734953703703704\n",
            "Epoch 3: Train acc: 0.8691261574074074, Train loss: 0.3677211973191686 |Validation acc: 0.8835648148148149\n",
            "Epoch 4: Train acc: 0.8787037037037037, Train loss: 0.33230338088435935 |Validation acc: 0.8864004629629629\n",
            "Epoch 5: Train acc: 0.885619212962963, Train loss: 0.30661092267904666 |Validation acc: 0.8903356481481481\n",
            "Epoch 6: Train acc: 0.8937355324074074, Train loss: 0.28513885602742606 |Validation acc: 0.89375\n",
            "Epoch 7: Train acc: 0.8980902777777777, Train loss: 0.2710001670427061 |Validation acc: 0.8924189814814815\n",
            "Epoch 8: Train acc: 0.9012008101851852, Train loss: 0.25567927403170937 |Validation acc: 0.8943287037037037\n",
            "Epoch 9: Train acc: 0.9044270833333333, Train loss: 0.2467405104395971 |Validation acc: 0.897974537037037\n",
            "Epoch 10: Train acc: 0.908203125, Train loss: 0.2360302451567326 |Validation acc: 0.8970486111111111\n",
            "Epoch 11: Train acc: 0.9087239583333333, Train loss: 0.23020542373697708 |Validation acc: 0.8919560185185185\n",
            "Epoch 12: Train acc: 0.9097222222222222, Train loss: 0.2254026389083249 |Validation acc: 0.8979166666666667\n",
            "Epoch 13: Train acc: 0.9135706018518519, Train loss: 0.2187941674186143 |Validation acc: 0.8982638888888889\n",
            "Epoch 14: Train acc: 0.9145109953703704, Train loss: 0.2141422528902747 |Validation acc: 0.8976851851851851\n",
            "Epoch 15: Train acc: 0.918214699074074, Train loss: 0.20363637407692525 |Validation acc: 0.8974537037037037\n",
            "Epoch 16: Train acc: 0.9191116898148148, Train loss: 0.1996361710066568 |Validation acc: 0.9014467592592592\n",
            "Epoch 17: Train acc: 0.9192997685185185, Train loss: 0.20112088719931986 |Validation acc: 0.8959490740740741\n",
            "Epoch 18: Train acc: 0.9212673611111111, Train loss: 0.19571203306704932 |Validation acc: 0.903587962962963\n",
            "Epoch 19: Train acc: 0.9237847222222222, Train loss: 0.18816076479098529 |Validation acc: 0.9020833333333333\n",
            "Epoch 20: Train acc: 0.9248408564814815, Train loss: 0.1862820481203195 |Validation acc: 0.8998263888888889\n"
          ]
        },
        {
          "output_type": "display_data",
          "data": {
            "text/plain": [
              "<Figure size 432x288 with 1 Axes>"
            ],
            "image/png": "[encoded data removed]"
          },
          "metadata": {
            "needs_background": "light"
          }
        },
        {
          "output_type": "stream",
          "name": "stdout",
          "text": [
            "Final Training Accuracy: 0.9248408564814815\n",
            "Final Validation Accuracy: 0.8998263888888889\n"
          ]
        },
        {
          "output_type": "display_data",
          "data": {
            "text/plain": [
              "<Figure size 432x288 with 1 Axes>"
            ],
            "image/png": "[encoded data removed]"
          },
          "metadata": {
            "needs_background": "light"
          }
        }
      ]
    },
    {
      "cell_type": "code",
      "source": [
        "model = PlateNet2_noDO()\n",
        "if torch.cuda.is_available():\n",
        "    model = model.cuda()\n",
        "    print(\"cuda\")\n",
        "training(model, batch_size=100, learning_rate=0.0015, num_epochs=20)"
      ],
      "metadata": {
        "colab": {
          "base_uri": "https://localhost:8080/",
          "height": 960
        },
        "id": "I4U85aTErZvL",
        "outputId": "792283da-8c74-4621-ca9b-7f0176bc43da"
      },
      "execution_count": null,
      "outputs": [
        {
          "output_type": "stream",
          "name": "stdout",
          "text": [
            "cuda\n",
            "Epoch 1: Train acc: 0.6784288194444444, Train loss: 1.0715659113891551 |Validation acc: 0.8186921296296297\n",
            "Epoch 2: Train acc: 0.8405381944444444, Train loss: 0.46033668074476924 |Validation acc: 0.8545717592592592\n",
            "Epoch 3: Train acc: 0.8665798611111111, Train loss: 0.3822147662326091 |Validation acc: 0.8664351851851851\n",
            "Epoch 4: Train acc: 0.8769675925925926, Train loss: 0.344689758914399 |Validation acc: 0.8699074074074075\n",
            "Epoch 5: Train acc: 0.8822627314814815, Train loss: 0.3215228025774563 |Validation acc: 0.8771412037037037\n",
            "Epoch 6: Train acc: 0.8904079861111112, Train loss: 0.29805186429637015 |Validation acc: 0.8815393518518518\n",
            "Epoch 7: Train acc: 0.8958043981481482, Train loss: 0.2806216015055173 |Validation acc: 0.8811342592592593\n",
            "Epoch 8: Train acc: 0.8998987268518519, Train loss: 0.26404622617053847 |Validation acc: 0.8857060185185185\n",
            "Epoch 9: Train acc: 0.9032696759259259, Train loss: 0.2523451120501137 |Validation acc: 0.8772569444444445\n",
            "Epoch 10: Train acc: 0.9066261574074074, Train loss: 0.24464447521793015 |Validation acc: 0.8789930555555555\n",
            "Epoch 11: Train acc: 0.9100405092592593, Train loss: 0.23336836761348165 |Validation acc: 0.874537037037037\n",
            "Epoch 12: Train acc: 0.9106915509259259, Train loss: 0.22851524736215442 |Validation acc: 0.8855902777777778\n",
            "Epoch 13: Train acc: 0.913671875, Train loss: 0.21802423195644266 |Validation acc: 0.8873263888888889\n",
            "Epoch 14: Train acc: 0.916015625, Train loss: 0.2142319761841111 |Validation acc: 0.8832175925925926\n",
            "Epoch 15: Train acc: 0.9183015046296297, Train loss: 0.2032025414815097 |Validation acc: 0.8878472222222222\n",
            "Epoch 16: Train acc: 0.9200665509259259, Train loss: 0.19749830134557506 |Validation acc: 0.8872106481481481\n",
            "Epoch 17: Train acc: 0.9220341435185185, Train loss: 0.19288935091863305 |Validation acc: 0.8854166666666666\n",
            "Epoch 18: Train acc: 0.92421875, Train loss: 0.19107321342937864 |Validation acc: 0.884375\n",
            "Epoch 19: Train acc: 0.9244212962962963, Train loss: 0.18291529400457193 |Validation acc: 0.8826967592592593\n",
            "Epoch 20: Train acc: 0.9273582175925926, Train loss: 0.18068145587502016 |Validation acc: 0.8824074074074074\n"
          ]
        },
        {
          "output_type": "display_data",
          "data": {
            "text/plain": [
              "<Figure size 432x288 with 1 Axes>"
            ],
            "image/png": "[encoded data removed]"
          },
          "metadata": {
            "needs_background": "light"
          }
        },
        {
          "output_type": "stream",
          "name": "stdout",
          "text": [
            "Final Training Accuracy: 0.9273582175925926\n",
            "Final Validation Accuracy: 0.8824074074074074\n"
          ]
        },
        {
          "output_type": "display_data",
          "data": {
            "text/plain": [
              "<Figure size 432x288 with 1 Axes>"
            ],
            "image/png": "[encoded data removed]"
          },
          "metadata": {
            "needs_background": "light"
          }
        }
      ]
    },
    {
      "cell_type": "code",
      "source": [
        "## BEST ONE SO FAR\n",
        "model = PlateNet2()\n",
        "if torch.cuda.is_available():\n",
        "    model = model.cuda()\n",
        "    print(\"cuda\")\n",
        "training(model, batch_size=100, learning_rate=0.0015, num_epochs=20)"
      ],
      "metadata": {
        "colab": {
          "base_uri": "https://localhost:8080/",
          "height": 961
        },
        "id": "j77s8EW7GKO0",
        "outputId": "0447aad3-cfc1-45df-d5d0-9fc2b2a0f910"
      },
      "execution_count": null,
      "outputs": [
        {
          "output_type": "stream",
          "name": "stdout",
          "text": [
            "cuda\n",
            "Epoch 1: Train acc: 0.697019675925926, Train loss: 0.9756676977597221 |Validation acc: 0.8467013888888889\n",
            "Epoch 2: Train acc: 0.8255787037037037, Train loss: 0.5136687681294245 |Validation acc: 0.8623263888888889\n",
            "Epoch 3: Train acc: 0.8473668981481481, Train loss: 0.4356663438970643 |Validation acc: 0.8885416666666667\n",
            "Epoch 4: Train acc: 0.8610532407407407, Train loss: 0.39242808983763516 |Validation acc: 0.885474537037037\n",
            "Epoch 5: Train acc: 0.8701533564814815, Train loss: 0.36453148627901355 |Validation acc: 0.8929976851851852\n",
            "Epoch 6: Train acc: 0.8747395833333333, Train loss: 0.3455855617934913 |Validation acc: 0.8909722222222223\n",
            "Epoch 7: Train acc: 0.8801938657407408, Train loss: 0.32587546353481406 |Validation acc: 0.8943865740740741\n",
            "Epoch 8: Train acc: 0.8845775462962963, Train loss: 0.31346535189561764 |Validation acc: 0.9000578703703703\n",
            "Epoch 9: Train acc: 0.8873842592592592, Train loss: 0.30404016889114943 |Validation acc: 0.8954282407407408\n",
            "Epoch 10: Train acc: 0.8892505787037037, Train loss: 0.2942625927507361 |Validation acc: 0.9026041666666667\n",
            "Epoch 11: Train acc: 0.8934895833333333, Train loss: 0.2814263329017541 |Validation acc: 0.9012731481481482\n",
            "Epoch 12: Train acc: 0.894285300925926, Train loss: 0.27672403443583177 |Validation acc: 0.900636574074074\n",
            "Epoch 13: Train acc: 0.8963541666666667, Train loss: 0.26824334119527327 |Validation acc: 0.9044560185185185\n",
            "Epoch 14: Train acc: 0.8985966435185185, Train loss: 0.26484537550996495 |Validation acc: 0.9034143518518518\n",
            "Epoch 15: Train acc: 0.8993923611111111, Train loss: 0.25947108450264944 |Validation acc: 0.9038194444444444\n",
            "Epoch 16: Train acc: 0.9024160879629629, Train loss: 0.2537097016704737 |Validation acc: 0.907349537037037\n",
            "Epoch 17: Train acc: 0.9032696759259259, Train loss: 0.24862058426258882 |Validation acc: 0.9050347222222223\n",
            "Epoch 18: Train acc: 0.9033854166666667, Train loss: 0.2453727907678812 |Validation acc: 0.906712962962963\n",
            "Epoch 19: Train acc: 0.9049045138888889, Train loss: 0.2420394334597567 |Validation acc: 0.9072916666666667\n",
            "Epoch 20: Train acc: 0.9078125, Train loss: 0.2356237054108023 |Validation acc: 0.9042824074074074\n"
          ]
        },
        {
          "output_type": "display_data",
          "data": {
            "text/plain": [
              "<Figure size 432x288 with 1 Axes>"
            ],
            "image/png": "[encoded data removed]"
          },
          "metadata": {
            "needs_background": "light"
          }
        },
        {
          "output_type": "stream",
          "name": "stdout",
          "text": [
            "Final Training Accuracy: 0.9078125\n",
            "Final Validation Accuracy: 0.9042824074074074\n"
          ]
        },
        {
          "output_type": "display_data",
          "data": {
            "text/plain": [
              "<Figure size 432x288 with 1 Axes>"
            ],
            "image/png": "[encoded data removed]"
          },
          "metadata": {
            "needs_background": "light"
          }
        }
      ]
    },
    {
      "cell_type": "code",
      "source": [
        "model = PlateNet3()\n",
        "if torch.cuda.is_available():\n",
        "    model = model.cuda()\n",
        "    print(\"cuda\")\n",
        "training(model, batch_size=100, learning_rate=0.0015, num_epochs=20)"
      ],
      "metadata": {
        "colab": {
          "base_uri": "https://localhost:8080/",
          "height": 960
        },
        "id": "3rf7rVm_MeCM",
        "outputId": "469ed667-3088-4999-8bbb-0e8815b59825"
      },
      "execution_count": null,
      "outputs": [
        {
          "output_type": "stream",
          "name": "stdout",
          "text": [
            "cuda\n",
            "Epoch 1: Train acc: 0.6665075231481481, Train loss: 1.0717164442115437 |Validation acc: 0.8391782407407408\n",
            "Epoch 2: Train acc: 0.8345341435185185, Train loss: 0.46649304518982165 |Validation acc: 0.8651620370370371\n",
            "Epoch 3: Train acc: 0.8578414351851852, Train loss: 0.3888196306292377 |Validation acc: 0.8837962962962963\n",
            "Epoch 4: Train acc: 0.8703993055555556, Train loss: 0.35239487434225963 |Validation acc: 0.8842013888888889\n",
            "Epoch 5: Train acc: 0.8785734953703703, Train loss: 0.3253007915538515 |Validation acc: 0.8914930555555556\n",
            "Epoch 6: Train acc: 0.8856915509259259, Train loss: 0.30388077562728716 |Validation acc: 0.8934027777777778\n",
            "Epoch 7: Train acc: 0.8912760416666666, Train loss: 0.2907801019404665 |Validation acc: 0.8994791666666667\n",
            "Epoch 8: Train acc: 0.8947916666666667, Train loss: 0.27679859174986104 |Validation acc: 0.8985532407407407\n",
            "Epoch 9: Train acc: 0.8974826388888889, Train loss: 0.2634822140431645 |Validation acc: 0.8986111111111111\n",
            "Epoch 10: Train acc: 0.8998697916666667, Train loss: 0.2577832698219084 |Validation acc: 0.9011574074074075\n",
            "Epoch 11: Train acc: 0.9021846064814815, Train loss: 0.2527753778146526 |Validation acc: 0.8986111111111111\n",
            "Epoch 12: Train acc: 0.9053385416666667, Train loss: 0.2431888290374093 |Validation acc: 0.9038773148148148\n",
            "Epoch 13: Train acc: 0.9069299768518518, Train loss: 0.23836903562607792 |Validation acc: 0.9066550925925926\n",
            "Epoch 14: Train acc: 0.908839699074074, Train loss: 0.23371064750143902 |Validation acc: 0.9030671296296297\n",
            "Epoch 15: Train acc: 0.9101417824074074, Train loss: 0.22579082396592018 |Validation acc: 0.905613425925926\n",
            "Epoch 16: Train acc: 0.9112268518518518, Train loss: 0.22251623011910157 |Validation acc: 0.9060185185185186\n",
            "Epoch 17: Train acc: 0.9122395833333333, Train loss: 0.21780687397227466 |Validation acc: 0.9041666666666667\n",
            "Epoch 18: Train acc: 0.9143663194444445, Train loss: 0.21438569780116137 |Validation acc: 0.9048611111111111\n",
            "Epoch 19: Train acc: 0.914453125, Train loss: 0.208484016455753 |Validation acc: 0.9038773148148148\n",
            "Epoch 20: Train acc: 0.9153211805555556, Train loss: 0.20791682763552735 |Validation acc: 0.8995949074074074\n"
          ]
        },
        {
          "output_type": "display_data",
          "data": {
            "text/plain": [
              "<Figure size 432x288 with 1 Axes>"
            ],
            "image/png": "[encoded data removed]"
          },
          "metadata": {
            "needs_background": "light"
          }
        },
        {
          "output_type": "stream",
          "name": "stdout",
          "text": [
            "Final Training Accuracy: 0.9153211805555556\n",
            "Final Validation Accuracy: 0.8995949074074074\n"
          ]
        },
        {
          "output_type": "display_data",
          "data": {
            "text/plain": [
              "<Figure size 432x288 with 1 Axes>"
            ],
            "image/png": "[encoded data removed]"
          },
          "metadata": {
            "needs_background": "light"
          }
        }
      ]
    },
    {
      "cell_type": "code",
      "source": [
        "model = PlateNet4()\n",
        "if torch.cuda.is_available():\n",
        "    model = model.cuda()\n",
        "    print(\"cuda\")\n",
        "training(model, batch_size=100, learning_rate=0.0015, num_epochs=20)"
      ],
      "metadata": {
        "colab": {
          "base_uri": "https://localhost:8080/",
          "height": 960
        },
        "id": "8aC_J4tOdcD2",
        "outputId": "66333a47-02f1-4eed-9140-7b0ef2add191"
      },
      "execution_count": null,
      "outputs": [
        {
          "output_type": "stream",
          "name": "stdout",
          "text": [
            "cuda\n",
            "Epoch 1: Train acc: 0.6133680555555555, Train loss: 1.2706871795430348 |Validation acc: 0.8251157407407408\n",
            "Epoch 2: Train acc: 0.7881076388888889, Train loss: 0.6349766204036729 |Validation acc: 0.8578703703703704\n",
            "Epoch 3: Train acc: 0.8147424768518519, Train loss: 0.5456132259585954 |Validation acc: 0.8623263888888889\n",
            "Epoch 4: Train acc: 0.8273003472222222, Train loss: 0.49957500484292905 |Validation acc: 0.8717592592592592\n",
            "Epoch 5: Train acc: 0.8371383101851851, Train loss: 0.4678957159765538 |Validation acc: 0.8741319444444444\n",
            "Epoch 6: Train acc: 0.844921875, Train loss: 0.44273107976927234 |Validation acc: 0.8784143518518519\n",
            "Epoch 7: Train acc: 0.8492910879629629, Train loss: 0.42987343780911724 |Validation acc: 0.8795138888888889\n",
            "Epoch 8: Train acc: 0.85390625, Train loss: 0.41236243773833176 |Validation acc: 0.8822337962962963\n",
            "Epoch 9: Train acc: 0.8584780092592592, Train loss: 0.39456673612484355 |Validation acc: 0.880613425925926\n",
            "Epoch 10: Train acc: 0.8619502314814815, Train loss: 0.38629560370665755 |Validation acc: 0.8859953703703703\n",
            "Epoch 11: Train acc: 0.8646556712962963, Train loss: 0.3714379186101387 |Validation acc: 0.8842592592592593\n",
            "Epoch 12: Train acc: 0.8681712962962963, Train loss: 0.36259585479005224 |Validation acc: 0.8847800925925926\n",
            "Epoch 13: Train acc: 0.8722511574074074, Train loss: 0.34884987677840484 |Validation acc: 0.8894097222222223\n",
            "Epoch 14: Train acc: 0.8754340277777778, Train loss: 0.3412911361137222 |Validation acc: 0.8848379629629629\n",
            "Epoch 15: Train acc: 0.8761574074074074, Train loss: 0.33416933915174074 |Validation acc: 0.8902199074074074\n",
            "Epoch 16: Train acc: 0.8797019675925926, Train loss: 0.3236425098763897 |Validation acc: 0.8918981481481482\n",
            "Epoch 17: Train acc: 0.8798611111111111, Train loss: 0.32055034325861864 |Validation acc: 0.8875578703703704\n",
            "Epoch 18: Train acc: 0.8826678240740741, Train loss: 0.31482150114943525 |Validation acc: 0.890625\n",
            "Epoch 19: Train acc: 0.8850983796296297, Train loss: 0.3089982348068946 |Validation acc: 0.8866319444444445\n",
            "Epoch 20: Train acc: 0.8869212962962963, Train loss: 0.30209555354163137 |Validation acc: 0.8829282407407407\n"
          ]
        },
        {
          "output_type": "display_data",
          "data": {
            "text/plain": [
              "<Figure size 432x288 with 1 Axes>"
            ],
            "image/png": "[encoded data removed]"
          },
          "metadata": {
            "needs_background": "light"
          }
        },
        {
          "output_type": "stream",
          "name": "stdout",
          "text": [
            "Final Training Accuracy: 0.8869212962962963\n",
            "Final Validation Accuracy: 0.8829282407407407\n"
          ]
        },
        {
          "output_type": "display_data",
          "data": {
            "text/plain": [
              "<Figure size 432x288 with 1 Axes>"
            ],
            "image/png": "[encoded data removed]"
          },
          "metadata": {
            "needs_background": "light"
          }
        }
      ]
    },
    {
      "cell_type": "code",
      "source": [
        "model = PlateNet2()\n",
        "if torch.cuda.is_available():\n",
        "    model = model.cuda()\n",
        "    print(\"cuda\")\n",
        "training(model, batch_size=100, learning_rate=0.001, num_epochs=20)"
      ],
      "metadata": {
        "colab": {
          "base_uri": "https://localhost:8080/",
          "height": 960
        },
        "id": "DImSIZ2uofB4",
        "outputId": "a59aaf9b-3256-43f7-e4f3-9d2591eb76c0"
      },
      "execution_count": null,
      "outputs": [
        {
          "output_type": "stream",
          "name": "stdout",
          "text": [
            "cuda\n",
            "Epoch 1: Train acc: 0.556004050925926, Train loss: 1.4942039822395137 |Validation acc: 0.7867476851851852\n",
            "Epoch 2: Train acc: 0.7548755787037037, Train loss: 0.737131918096818 |Validation acc: 0.8349537037037037\n",
            "Epoch 3: Train acc: 0.7920717592592592, Train loss: 0.6237294390108544 |Validation acc: 0.8505787037037037\n",
            "Epoch 4: Train acc: 0.8088831018518519, Train loss: 0.5613672031746434 |Validation acc: 0.8644097222222222\n",
            "Epoch 5: Train acc: 0.8210069444444444, Train loss: 0.5187344665644485 |Validation acc: 0.8652777777777778\n",
            "Epoch 6: Train acc: 0.833738425925926, Train loss: 0.48321390849661966 |Validation acc: 0.8732060185185185\n",
            "Epoch 7: Train acc: 0.8398003472222222, Train loss: 0.4629899990997907 |Validation acc: 0.8766782407407407\n",
            "Epoch 8: Train acc: 0.8458188657407407, Train loss: 0.4439000702662275 |Validation acc: 0.8796875\n",
            "Epoch 9: Train acc: 0.8507667824074074, Train loss: 0.42272905164500535 |Validation acc: 0.8822337962962963\n",
            "Epoch 10: Train acc: 0.8534143518518519, Train loss: 0.41511670299778786 |Validation acc: 0.8847800925925926\n",
            "Epoch 11: Train acc: 0.8581452546296297, Train loss: 0.3983664769528574 |Validation acc: 0.8869212962962963\n",
            "Epoch 12: Train acc: 0.8598234953703704, Train loss: 0.3894861707237759 |Validation acc: 0.8893518518518518\n",
            "Epoch 13: Train acc: 0.8622251157407408, Train loss: 0.3820862078425512 |Validation acc: 0.8931134259259259\n",
            "Epoch 14: Train acc: 0.8671730324074074, Train loss: 0.3712492485912894 |Validation acc: 0.890162037037037\n",
            "Epoch 15: Train acc: 0.8695601851851852, Train loss: 0.36186038930981146 |Validation acc: 0.8890046296296297\n",
            "Epoch 16: Train acc: 0.8695457175925926, Train loss: 0.3572590896332195 |Validation acc: 0.8942129629629629\n",
            "Epoch 17: Train acc: 0.8731481481481481, Train loss: 0.3532546784707232 |Validation acc: 0.8900462962962963\n",
            "Epoch 18: Train acc: 0.8717881944444444, Train loss: 0.34650064668903463 |Validation acc: 0.8928819444444445\n",
            "Epoch 19: Train acc: 0.875462962962963, Train loss: 0.340926651708308 |Validation acc: 0.891261574074074\n",
            "Epoch 20: Train acc: 0.8758825231481482, Train loss: 0.337448082519749 |Validation acc: 0.8931712962962963\n"
          ]
        },
        {
          "output_type": "display_data",
          "data": {
            "text/plain": [
              "<Figure size 432x288 with 1 Axes>"
            ],
            "image/png": "[encoded data removed]"
          },
          "metadata": {
            "needs_background": "light"
          }
        },
        {
          "output_type": "stream",
          "name": "stdout",
          "text": [
            "Final Training Accuracy: 0.8758825231481482\n",
            "Final Validation Accuracy: 0.8931712962962963\n"
          ]
        },
        {
          "output_type": "display_data",
          "data": {
            "text/plain": [
              "<Figure size 432x288 with 1 Axes>"
            ],
            "image/png": "[encoded data removed]"
          },
          "metadata": {
            "needs_background": "light"
          }
        }
      ]
    },
    {
      "cell_type": "code",
      "source": [
        "model = PlateNet2()\n",
        "if torch.cuda.is_available():\n",
        "    model = model.cuda()\n",
        "    print(\"cuda\")\n",
        "training(model, batch_size=200, learning_rate=0.0015, num_epochs=20)"
      ],
      "metadata": {
        "colab": {
          "base_uri": "https://localhost:8080/",
          "height": 961
        },
        "id": "g4esMIxyRlBI",
        "outputId": "86a3c801-9a3e-48ea-e3c6-04e3bf358e74"
      },
      "execution_count": null,
      "outputs": [
        {
          "output_type": "stream",
          "name": "stdout",
          "text": [
            "cuda\n",
            "Epoch 1: Train acc: 0.5378761574074075, Train loss: 1.5577844450239502 |Validation acc: 0.7892939814814814\n",
            "Epoch 2: Train acc: 0.762572337962963, Train loss: 0.7196947245756325 |Validation acc: 0.8347222222222223\n",
            "Epoch 3: Train acc: 0.7989438657407407, Train loss: 0.5927142281235988 |Validation acc: 0.8569444444444444\n",
            "Epoch 4: Train acc: 0.8200810185185186, Train loss: 0.527832024100888 |Validation acc: 0.8699652777777778\n",
            "Epoch 5: Train acc: 0.8319878472222222, Train loss: 0.4822406659408801 |Validation acc: 0.8708912037037037\n",
            "Epoch 6: Train acc: 0.8418692129629629, Train loss: 0.4556586364273391 |Validation acc: 0.8826967592592593\n",
            "Epoch 7: Train acc: 0.8476128472222222, Train loss: 0.43480619512541446 |Validation acc: 0.882349537037037\n",
            "Epoch 8: Train acc: 0.8511284722222222, Train loss: 0.42162947511741883 |Validation acc: 0.8848379629629629\n",
            "Epoch 9: Train acc: 0.8582320601851852, Train loss: 0.4014298312925879 |Validation acc: 0.8865740740740741\n",
            "Epoch 10: Train acc: 0.8607638888888889, Train loss: 0.39104341577760054 |Validation acc: 0.8852430555555556\n",
            "Epoch 11: Train acc: 0.8642650462962963, Train loss: 0.3794299811555471 |Validation acc: 0.8891782407407407\n",
            "Epoch 12: Train acc: 0.8643663194444444, Train loss: 0.3773066692614142 |Validation acc: 0.8906828703703704\n",
            "Epoch 13: Train acc: 0.8694155092592593, Train loss: 0.3633491583814511 |Validation acc: 0.8953125\n",
            "Epoch 14: Train acc: 0.8706886574074074, Train loss: 0.35354138251846234 |Validation acc: 0.8895833333333333\n",
            "Epoch 15: Train acc: 0.8724826388888889, Train loss: 0.34782864631428195 |Validation acc: 0.8953125\n",
            "Epoch 16: Train acc: 0.8747395833333333, Train loss: 0.3453452640530691 |Validation acc: 0.8961226851851852\n",
            "Epoch 17: Train acc: 0.8754774305555556, Train loss: 0.33832865117946803 |Validation acc: 0.8985532407407407\n",
            "Epoch 18: Train acc: 0.8776475694444444, Train loss: 0.33590644395592584 |Validation acc: 0.8974537037037037\n",
            "Epoch 19: Train acc: 0.8793402777777778, Train loss: 0.3261348244685658 |Validation acc: 0.8954861111111111\n",
            "Epoch 20: Train acc: 0.8819733796296296, Train loss: 0.32218454627460136 |Validation acc: 0.8986689814814814\n"
          ]
        },
        {
          "output_type": "display_data",
          "data": {
            "text/plain": [
              "<Figure size 432x288 with 1 Axes>"
            ],
            "image/png": "[encoded data removed]"
          },
          "metadata": {
            "needs_background": "light"
          }
        },
        {
          "output_type": "stream",
          "name": "stdout",
          "text": [
            "Final Training Accuracy: 0.8819733796296296\n",
            "Final Validation Accuracy: 0.8986689814814814\n"
          ]
        },
        {
          "output_type": "display_data",
          "data": {
            "text/plain": [
              "<Figure size 432x288 with 1 Axes>"
            ],
            "image/png": "[encoded data removed]"
          },
          "metadata": {
            "needs_background": "light"
          }
        }
      ]
    },
    {
      "cell_type": "code",
      "source": [
        "model = PlateNet2()\n",
        "if torch.cuda.is_available():\n",
        "    model = model.cuda()\n",
        "    print(\"cuda\")\n",
        "training(model, batch_size=50, learning_rate=0.0015, num_epochs=20)"
      ],
      "metadata": {
        "colab": {
          "base_uri": "https://localhost:8080/",
          "height": 1000,
          "referenced_widgets": [
            "0e71172d2da84b39ae0455bba1a3c46e",
            "9a4ddeca1260487581c385d7dc9c7d56",
            "67504302f20c4859a748e37960a79795",
            "90e371ce8e0343a2b26b5afcec4e6e4f",
            "f53282580c124aaa87faaf5d7b00f583",
            "16b1819514d642029c595d8cc4ccd59b",
            "6897aacc26ff4891a7e4387b884cd195",
            "bc9c912f75e14711a5329ff212c7d813",
            "ea83241283214dd89e0480c3cd0764b2",
            "4d39de039fe546b18697b0f199133255",
            "f80ba67482914168af0897fbe6e52fdd"
          ]
        },
        "id": "KZT9D3v74we_",
        "outputId": "6f11aea3-e4ae-4b5f-a44a-b6b55ee9b0cb"
      },
      "execution_count": null,
      "outputs": [
        {
          "output_type": "stream",
          "name": "stdout",
          "text": [
            "Downloading https://www.itl.nist.gov/iaui/vip/cs_links/EMNIST/gzip.zip to ./data/EMNIST/raw/gzip.zip\n"
          ]
        },
        {
          "output_type": "display_data",
          "data": {
            "text/plain": [
              "  0%|          | 0/561753746 [00:00<?, ?it/s]"
            ],
            "application/vnd.jupyter.widget-view+json": {
              "version_major": 2,
              "version_minor": 0,
              "model_id": "0e71172d2da84b39ae0455bba1a3c46e"
            }
          },
          "metadata": {}
        },
        {
          "output_type": "stream",
          "name": "stdout",
          "text": [
            "Extracting ./data/EMNIST/raw/gzip.zip to ./data/EMNIST/raw\n",
            "Epoch 1: Train acc: 0.6183449074074074, Train loss: 1.2569619129510867 |Validation acc: 0.8118055555555556\n",
            "Epoch 2: Train acc: 0.7762008101851852, Train loss: 0.6651147889728919 |Validation acc: 0.8535879629629629\n",
            "Epoch 3: Train acc: 0.8100260416666667, Train loss: 0.5591876476313529 |Validation acc: 0.858912037037037\n",
            "Epoch 4: Train acc: 0.8242476851851852, Train loss: 0.5103768687143071 |Validation acc: 0.8712384259259259\n",
            "Epoch 5: Train acc: 0.8353877314814815, Train loss: 0.4792783696390284 |Validation acc: 0.8769097222222222\n",
            "Epoch 6: Train acc: 0.8417245370370371, Train loss: 0.45236451561823326 |Validation acc: 0.8818287037037037\n",
            "Epoch 7: Train acc: 0.8493344907407407, Train loss: 0.42557252352533353 |Validation acc: 0.8835648148148149\n",
            "Epoch 8: Train acc: 0.8537181712962963, Train loss: 0.40957724928468014 |Validation acc: 0.8868634259259259\n",
            "Epoch 9: Train acc: 0.8593026620370371, Train loss: 0.396940241181928 |Validation acc: 0.8877893518518518\n",
            "Epoch 10: Train acc: 0.8624710648148148, Train loss: 0.38724436329722145 |Validation acc: 0.8833333333333333\n",
            "Epoch 11: Train acc: 0.8654369212962963, Train loss: 0.3711264739035267 |Validation acc: 0.8893518518518518\n",
            "Epoch 12: Train acc: 0.8664496527777777, Train loss: 0.3687689585135798 |Validation acc: 0.8870949074074074\n",
            "Epoch 13: Train acc: 0.871947337962963, Train loss: 0.36035656115001125 |Validation acc: 0.8887152777777778\n",
            "Epoch 14: Train acc: 0.8718171296296297, Train loss: 0.3562543288099533 |Validation acc: 0.8913773148148149\n",
            "Epoch 15: Train acc: 0.8726273148148148, Train loss: 0.34805647245004223 |Validation acc: 0.8934027777777778\n",
            "Epoch 16: Train acc: 0.87421875, Train loss: 0.34170984766639323 |Validation acc: 0.8969328703703704\n",
            "Epoch 17: Train acc: 0.8752025462962963, Train loss: 0.3384017181176684 |Validation acc: 0.8945601851851852\n",
            "Epoch 18: Train acc: 0.8758391203703704, Train loss: 0.33532412618463314 |Validation acc: 0.8949652777777778\n",
            "Epoch 19: Train acc: 0.8785445601851852, Train loss: 0.32943023125750814 |Validation acc: 0.8899305555555556\n",
            "Epoch 20: Train acc: 0.880222800925926, Train loss: 0.32213547961302885 |Validation acc: 0.8919560185185185\n"
          ]
        },
        {
          "output_type": "display_data",
          "data": {
            "text/plain": [
              "<Figure size 432x288 with 1 Axes>"
            ],
            "image/png": "[encoded data removed]"
          },
          "metadata": {
            "needs_background": "light"
          }
        },
        {
          "output_type": "stream",
          "name": "stdout",
          "text": [
            "Final Training Accuracy: 0.880222800925926\n",
            "Final Validation Accuracy: 0.8919560185185185\n"
          ]
        },
        {
          "output_type": "display_data",
          "data": {
            "text/plain": [
              "<Figure size 432x288 with 1 Axes>"
            ],
            "image/png": "[encoded data removed]"
          },
          "metadata": {
            "needs_background": "light"
          }
        }
      ]
    },
    {
      "cell_type": "code",
      "source": [
        "model = PlateNet2()\n",
        "state = torch.load(\"model_platenet2_bs50_lr0.0015\",map_location = \"cpu\")\n",
        "model.load_state_dict(state)"
      ],
      "metadata": {
        "colab": {
          "base_uri": "https://localhost:8080/"
        },
        "id": "XQd_yCvB0cya",
        "outputId": "158ad235-dd06-4eda-f81c-3df5cb91556c"
      },
      "execution_count": null,
      "outputs": [
        {
          "output_type": "execute_result",
          "data": {
            "text/plain": [
              "<All keys matched successfully>"
            ]
          },
          "metadata": {},
          "execution_count": 8
        }
      ]
    },
    {
      "cell_type": "code",
      "source": [
        "test_loader = get_test_loader(1)\n",
        "test_acc = get_acc_loss(test_loader, model)"
      ],
      "metadata": {
        "id": "3r2kopCZz8-O"
      },
      "execution_count": null,
      "outputs": []
    },
    {
      "cell_type": "code",
      "source": [
        "print(test_acc)"
      ],
      "metadata": {
        "colab": {
          "base_uri": "https://localhost:8080/"
        },
        "id": "7lgwQhrA1dCs",
        "outputId": "4832c8b3-1aec-42e4-d8d6-9667441cdbe8"
      },
      "execution_count": null,
      "outputs": [
        {
          "output_type": "stream",
          "name": "stdout",
          "text": [
            "0.9059027777777777\n"
          ]
        }
      ]
    },
    {
      "cell_type": "code",
      "source": [
        "from PIL import Image\n",
        "img = Image.open(\"/content/drive/MyDrive/ML-AI Project/28by28/01334X2/ROI_1.png\")\n",
        "\n",
        "img\n"
      ],
      "metadata": {
        "colab": {
          "base_uri": "https://localhost:8080/",
          "height": 45
        },
        "id": "qGWkqIb_P-Rr",
        "outputId": "bb1f5f33-317c-4166-c57d-87d3af27f336"
      },
      "execution_count": null,
      "outputs": [
        {
          "output_type": "execute_result",
          "data": {
            "text/plain": [
              "<PIL.PngImagePlugin.PngImageFile image mode=L size=28x28 at 0x7F52E47646D0>"
            ],
            "image/png": "[encoded data removed]"
          },
          "metadata": {},
          "execution_count": 9
        }
      ]
    },
    {
      "cell_type": "code",
      "source": [
        "convert_tensor = transforms.ToTensor()\n",
        "img = convert_tensor(img)\n",
        "# convert_tensor(img)"
      ],
      "metadata": {
        "id": "Kt27hdvlh4FX"
      },
      "execution_count": null,
      "outputs": []
    },
    {
      "cell_type": "code",
      "source": [
        "model = PlateNet2()\n",
        "###### Best so far\n",
        "# state = torch.load(\"model_platenet2_bs100_lr0.0015\",map_location = torch.device('cpu'))\n",
        "\n",
        "model.load_state_dict(state)"
      ],
      "metadata": {
        "colab": {
          "base_uri": "https://localhost:8080/"
        },
        "id": "Yg_YdBnphEoW",
        "outputId": "0f132cf2-5945-49cc-e66f-5d86afad419d"
      },
      "execution_count": null,
      "outputs": [
        {
          "output_type": "execute_result",
          "data": {
            "text/plain": [
              "<All keys matched successfully>"
            ]
          },
          "metadata": {},
          "execution_count": 7
        }
      ]
    },
    {
      "cell_type": "code",
      "source": [
        "output = model(img)\n",
        "pred = output.max(1, keepdim=True)[1]"
      ],
      "metadata": {
        "id": "06idOF71hGAS"
      },
      "execution_count": null,
      "outputs": []
    },
    {
      "cell_type": "code",
      "source": [
        "print(pred.item())\n",
        "target[pred]"
      ],
      "metadata": {
        "colab": {
          "base_uri": "https://localhost:8080/",
          "height": 54
        },
        "id": "3pk3RC52hzFB",
        "outputId": "8eb3a721-049a-448d-e83a-a6ef971b3eff"
      },
      "execution_count": null,
      "outputs": [
        {
          "output_type": "stream",
          "name": "stdout",
          "text": [
            "21\n"
          ]
        },
        {
          "output_type": "execute_result",
          "data": {
            "text/plain": [
              "'L'"
            ],
            "application/vnd.google.colaboratory.intrinsic+json": {
              "type": "string"
            }
          },
          "metadata": {},
          "execution_count": 25
        }
      ]
    },
    {
      "cell_type": "code",
      "source": [
        "folder_path = r\"/content/drive/MyDrive/ML-AI Project/28by28\"\n",
        "\n",
        "plate_dic = {}\n",
        "for folder in os.listdir(folder_path):\n",
        "\n",
        "    plate_path = os.path.join(folder_path,folder)\n",
        "    filenames = os.listdir(plate_path)\n",
        "    filenames.sort()\n",
        "    plate_dic[folder] = filenames\n",
        "print(plate_dic)\n"
      ],
      "metadata": {
        "colab": {
          "base_uri": "https://localhost:8080/"
        },
        "id": "X9QmDM-KmBgl",
        "outputId": "aedd6fb9-e036-4cee-eeca-86ba127c0786"
      },
      "execution_count": null,
      "outputs": [
        {
          "output_type": "stream",
          "name": "stdout",
          "text": [
            "{'TDL6006': ['ROI_3.png', 'ROI_4.png', 'ROI_5.png', 'ROI_6.png', 'ROI_7.png', 'ROI_8.png', 'ROI_9.png'], 'SCARPY': ['ROI_0.png', 'ROI_1.png', 'ROI_2.png', 'ROI_3.png', 'ROI_4.png', 'ROI_5.png'], 'VUI159': ['ROI_1.png', 'ROI_2.png', 'ROI_3.png', 'ROI_6.png', 'ROI_7.png', 'ROI_8.png'], '2A00315': ['ROI_0.png', 'ROI_1.png', 'ROI_2.png', 'ROI_3.png', 'ROI_4.png', 'ROI_5.png', 'ROI_6.png'], '215557W': ['ROI_1.png', 'ROI_2.png', 'ROI_3.png', 'ROI_4.png', 'ROI_5.png', 'ROI_6.png', 'ROI_7.png'], '01334X2': ['ROI_0.png', 'ROI_1.png', 'ROI_2.png', 'ROI_3.png', 'ROI_4.png', 'ROI_5.png', 'ROI_6.png'], '73309E2': ['ROI_3.png', 'ROI_4.png', 'ROI_5.png', 'ROI_6.png', 'ROI_7.png', 'ROI_8.png', 'ROI_9.png'], '1MA625': ['ROI_1.png', 'ROI_2.png', 'ROI_3.png', 'ROI_4.png', 'ROI_5.png', 'ROI_6.png'], '4686BH5': ['ROI_1.png', 'ROI_2.png', 'ROI_4.png', 'ROI_6.png', 'ROI_7.png', 'ROI_8.png', 'ROI_9.png'], 'PMF242': ['ROI_1.png', 'ROI_2.png', 'ROI_3.png', 'ROI_4.png', 'ROI_5.png', 'ROI_6.png'], '.ipynb_checkpoints': []}\n"
          ]
        }
      ]
    },
    {
      "cell_type": "code",
      "source": [
        "correct = 0\n",
        "total = 0\n",
        "for i in plate_dic:\n",
        "  prediction = ''\n",
        "  for j in range(len(plate_dic[i])):\n",
        "    plate_path = os.path.join(folder_path,i)\n",
        "    img_path = os.path.join(plate_path,plate_dic[i][j])\n",
        "    img = Image.open(img_path)\n",
        "    convert_tensor = transforms.ToTensor()\n",
        "    img = convert_tensor(img)\n",
        "    model.eval()\n",
        "    output = model(img)\n",
        "    pred = output.max(1, keepdim=True)[1].item()\n",
        "    print(target[pred],i[j])\n",
        "    if str(target[pred]) == str(i[j]):\n",
        "      correct +=1\n",
        "    total += 1\n",
        "print(f\"Predicted {correct} correctly\")\n",
        "print(f\"Made a total of {total} values\")\n",
        "print(f\"Accuracy is {correct/total}\")"
      ],
      "metadata": {
        "colab": {
          "base_uri": "https://localhost:8080/"
        },
        "id": "JhufIE8A11sR",
        "outputId": "a7aa11af-d7ff-4539-a7aa-b7d63c9e7857"
      },
      "execution_count": null,
      "outputs": [
        {
          "output_type": "stream",
          "name": "stdout",
          "text": [
            "T T\n",
            "B D\n",
            "L L\n",
            "G 6\n",
            "8 0\n",
            "D 0\n",
            "B 6\n",
            "S S\n",
            "C C\n",
            "A A\n",
            "R R\n",
            "P P\n",
            "Y Y\n",
            "Y V\n",
            "U U\n",
            "J I\n",
            "I 1\n",
            "5 5\n",
            "9 9\n",
            "Z 2\n",
            "A A\n",
            "B 0\n",
            "B 0\n",
            "3 3\n",
            "L 1\n",
            "5 5\n",
            "2 2\n",
            "1 1\n",
            "5 5\n",
            "5 5\n",
            "5 5\n",
            "7 7\n",
            "H W\n",
            "B 0\n",
            "I 1\n",
            "3 3\n",
            "3 3\n",
            "6 4\n",
            "X X\n",
            "Z 2\n",
            "7 7\n",
            "3 3\n",
            "3 3\n",
            "B 0\n",
            "9 9\n",
            "E E\n",
            "Z 2\n",
            "I 1\n",
            "H M\n",
            "B A\n",
            "G 6\n",
            "2 2\n",
            "5 5\n",
            "8 4\n",
            "B 6\n",
            "B 8\n",
            "6 6\n",
            "B B\n",
            "H H\n",
            "5 5\n",
            "P P\n",
            "H M\n",
            "F F\n",
            "Z 2\n",
            "4 4\n",
            "Z 2\n",
            "Predicted 37 correctly\n",
            "Made a total of 66 values\n",
            "Accuracy is 0.5606060606060606\n"
          ]
        }
      ]
    }
  ]
}